{
 "cells": [
  {
   "cell_type": "code",
   "execution_count": 143,
   "id": "d94fc229",
   "metadata": {},
   "outputs": [],
   "source": [
    "from sklearn.datasets import load_boston\n",
    "import pandas as pd\n",
    "import numpy as np"
   ]
  },
  {
   "cell_type": "code",
   "execution_count": 144,
   "id": "c7617964",
   "metadata": {},
   "outputs": [],
   "source": [
    "from sklearn.model_selection import train_test_split"
   ]
  },
  {
   "cell_type": "code",
   "execution_count": 145,
   "id": "f0d773db",
   "metadata": {},
   "outputs": [],
   "source": [
    "from sklearn.preprocessing import StandardScaler\n",
    "\n",
    "scaler = StandardScaler()"
   ]
  },
  {
   "cell_type": "code",
   "execution_count": 146,
   "id": "5b50efe5",
   "metadata": {},
   "outputs": [],
   "source": [
    "from sklearn.cluster import KMeans"
   ]
  },
  {
   "cell_type": "markdown",
   "id": "b8cdd80b",
   "metadata": {},
   "source": [
    "## Задание 2\n",
    "С помощью KMeans разбейте данные из тренировочного набора на 3 кластера, используйте все признаки из датафрейма X_train. Параметр max_iter должен быть равен 100, random_state сделайте равным 42. Постройте еще раз диаграмму рассеяния на данных, полученных с помощью TSNE, и раскрасьте точки из разных кластеров разными цветами. Вычислите средние значения price и CRIM в разных кластерах."
   ]
  },
  {
   "cell_type": "markdown",
   "id": "7334af1b",
   "metadata": {},
   "source": [
    "## Задание 3\n",
    "Примените модель KMeans, построенную в предыдущем задании, к данным из тестового набора. Вычислите средние значения price и CRIM в разных кластерах на тестовых данных."
   ]
  },
  {
   "cell_type": "code",
   "execution_count": 147,
   "id": "0cc15c6d",
   "metadata": {},
   "outputs": [],
   "source": [
    "boston=load_boston()"
   ]
  },
  {
   "cell_type": "code",
   "execution_count": 148,
   "id": "be8a6db2",
   "metadata": {},
   "outputs": [],
   "source": [
    "data=boston.data"
   ]
  },
  {
   "cell_type": "code",
   "execution_count": 149,
   "id": "8506a9d9",
   "metadata": {},
   "outputs": [],
   "source": [
    "ft_names=boston.feature_names"
   ]
  },
  {
   "cell_type": "code",
   "execution_count": 150,
   "id": "763424b0",
   "metadata": {},
   "outputs": [],
   "source": [
    "price=boston.target"
   ]
  },
  {
   "cell_type": "code",
   "execution_count": 151,
   "id": "1bb4939d",
   "metadata": {},
   "outputs": [],
   "source": [
    "x=pd.DataFrame(data, columns=ft_names)\n",
    "y=pd.DataFrame(price, columns=['price'])"
   ]
  },
  {
   "cell_type": "code",
   "execution_count": 152,
   "id": "fdb17357",
   "metadata": {},
   "outputs": [],
   "source": [
    "x_train, x_test, y_train, y_test=train_test_split(x,y, test_size=0.2, random_state=42)"
   ]
  },
  {
   "cell_type": "code",
   "execution_count": 153,
   "id": "21a7c495",
   "metadata": {},
   "outputs": [],
   "source": [
    "X_train_scaled = scaler.fit_transform(x_train)\n",
    "X_train_scaled = pd.DataFrame(X_train_scaled, columns=ft_names)\n",
    "\n",
    "X_test_scaled = scaler.fit_transform(x_test)\n",
    "X_test_scaled = pd.DataFrame(X_test_scaled, columns=ft_names)"
   ]
  },
  {
   "cell_type": "code",
   "execution_count": 154,
   "id": "858eff8b",
   "metadata": {},
   "outputs": [],
   "source": [
    "kmeans_3 = KMeans(n_clusters=3, max_iter=100, random_state=42)"
   ]
  },
  {
   "cell_type": "code",
   "execution_count": 155,
   "id": "f1b5009d",
   "metadata": {},
   "outputs": [],
   "source": [
    "labels_clast_3 = kmeans_3.fit_predict(X_train_scaled)\n",
    "labels_clast_3 = pd.Series(labels_clast_3, name='clusters_3')\n",
    "\n",
    "labels_clast_3_test = kmeans_3.predict(X_test_scaled)\n",
    "labels_clast_3_test = pd.Series(labels_clast_3_test, name='clusters_3')"
   ]
  },
  {
   "cell_type": "code",
   "execution_count": 156,
   "id": "1a28737d",
   "metadata": {},
   "outputs": [],
   "source": [
    "#добавляю в данные кластеризацию\n",
    "X_train_cluster = pd.concat([X_train_scaled,labels_clast_3], axis=1)"
   ]
  },
  {
   "cell_type": "code",
   "execution_count": 157,
   "id": "3681b591",
   "metadata": {},
   "outputs": [
    {
     "name": "stdout",
     "output_type": "stream",
     "text": [
      "Первый кластер:  -0.3988641865191748\n",
      "Второй кластер:  0.8109035550510459\n",
      "Третий кластер:  -0.3595938819415387\n"
     ]
    }
   ],
   "source": [
    "#вывод данных трейна средних CRIM по разным clusters_3 внутри таблицы\n",
    "print('Первый кластер: ', X_train_cluster.query('clusters_3==0')['CRIM'].mean())\n",
    "print('Второй кластер: ', X_train_cluster.query('clusters_3==1')['CRIM'].mean())\n",
    "print('Третий кластер: ', X_train_cluster.query('clusters_3==2')['CRIM'].mean())"
   ]
  },
  {
   "cell_type": "code",
   "execution_count": 158,
   "id": "9586f965",
   "metadata": {},
   "outputs": [
    {
     "name": "stdout",
     "output_type": "stream",
     "text": [
      "Первый кластер:  -0.3988641865191748\n",
      "Второй кластер:  0.8109035550510459\n",
      "Третий кластер:  -0.3595938819415387\n"
     ]
    }
   ],
   "source": [
    "#вывод данных трейна средних CRIM по данным из labels_clast_3 сериализована\n",
    "print('Первый кластер: ', X_train_scaled[labels_clast_3==0]['CRIM'].mean())\n",
    "print('Второй кластер: ', X_train_scaled[labels_clast_3==1]['CRIM'].mean())\n",
    "print('Третий кластер: ', X_train_scaled[labels_clast_3==2]['CRIM'].mean())"
   ]
  },
  {
   "cell_type": "code",
   "execution_count": 160,
   "id": "42f5ea4d",
   "metadata": {},
   "outputs": [
    {
     "name": "stdout",
     "output_type": "stream",
     "text": [
      "Первый кластер:  -0.47839399382342146\n",
      "Второй кластер:  0.8803216939327015\n",
      "Третий кластер:  -0.4508131427450952\n"
     ]
    }
   ],
   "source": [
    "#вывод даеных теста CRIM по кластреам с использованием labels_clast_3_test сериализована\n",
    "print('Первый кластер: ', X_test_scaled[labels_clast_3_test==0]['CRIM'].mean())\n",
    "print('Второй кластер: ', X_test_scaled[labels_clast_3_test==1]['CRIM'].mean())\n",
    "print('Третий кластер: ', X_test_scaled[labels_clast_3_test==2]['CRIM'].mean())"
   ]
  },
  {
   "cell_type": "code",
   "execution_count": 161,
   "id": "91e8fb05",
   "metadata": {},
   "outputs": [],
   "source": [
    "X_predict=kmeans_3.predict(X_test_scaled)"
   ]
  },
  {
   "cell_type": "code",
   "execution_count": 162,
   "id": "0942ae54",
   "metadata": {},
   "outputs": [],
   "source": [
    "x_train_claster_3 = kmeans_3.fit_predict(X_train_scaled)"
   ]
  },
  {
   "cell_type": "code",
   "execution_count": 163,
   "id": "b0d2a770",
   "metadata": {},
   "outputs": [
    {
     "name": "stdout",
     "output_type": "stream",
     "text": [
      "Первый кластер:  price    27.788372\n",
      "dtype: float64\n",
      "Второй кластер:  price    16.165354\n",
      "dtype: float64\n",
      "Третий кластер:  price    24.958115\n",
      "dtype: float64\n"
     ]
    }
   ],
   "source": [
    "# вывод данных средней цены по кластерам с даными x_train_claster не сериализован\n",
    "print('Первый кластер: ', y_train[x_train_claster == 0].mean())\n",
    "print('Второй кластер: ', y_train[x_train_claster == 1].mean())\n",
    "print('Третий кластер: ', y_train[x_train_claster == 2].mean())"
   ]
  },
  {
   "cell_type": "code",
   "execution_count": 164,
   "id": "bf5e2323",
   "metadata": {},
   "outputs": [
    {
     "name": "stdout",
     "output_type": "stream",
     "text": [
      "Первый кластер:  price    28.413636\n",
      "dtype: float64\n",
      "Второй кластер:  price    16.437143\n",
      "dtype: float64\n",
      "Третий кластер:  price    22.031111\n",
      "dtype: float64\n"
     ]
    }
   ],
   "source": [
    "# вывод данных по цене по кластерам по предсказанной модели не сериализована\n",
    "print('Первый кластер: ', y_test[X_predict == 0].mean())\n",
    "print('Второй кластер: ', y_test[X_predict == 1].mean())\n",
    "print('Третий кластер: ', y_test[X_predict == 2].mean())"
   ]
  },
  {
   "cell_type": "code",
   "execution_count": null,
   "id": "36e6b383",
   "metadata": {},
   "outputs": [],
   "source": []
  }
 ],
 "metadata": {
  "kernelspec": {
   "display_name": "Python 3 (ipykernel)",
   "language": "python",
   "name": "python3"
  },
  "language_info": {
   "codemirror_mode": {
    "name": "ipython",
    "version": 3
   },
   "file_extension": ".py",
   "mimetype": "text/x-python",
   "name": "python",
   "nbconvert_exporter": "python",
   "pygments_lexer": "ipython3",
   "version": "3.9.7"
  }
 },
 "nbformat": 4,
 "nbformat_minor": 5
}
